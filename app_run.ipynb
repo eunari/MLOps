{
  "cells": [
    {
      "cell_type": "code",
      "execution_count": null,
      "id": "Btgz7YqjCiVO",
      "metadata": {
        "id": "Btgz7YqjCiVO"
      },
      "outputs": [],
      "source": [
        "!pip install dash\n",
        "!pip install dash-bootstrap-components"
      ]
    },
    {
      "cell_type": "code",
      "execution_count": null,
      "id": "tn3FgFUTCTho",
      "metadata": {
        "id": "tn3FgFUTCTho"
      },
      "outputs": [],
      "source": [
        "\n",
        "import dash\n",
        "from dash.dependencies import Input, Output, State\n",
        "import plotly.express as px\n",
        "import plotly.graph_objects as go\n",
        "\n",
        "import app_layout as al\n",
        "import mylib as my\n",
        "\n",
        "import inference as infr\n",
        "\n",
        "import pandas as pd\n",
        "import numpy as np\n",
        "import sys, os\n",
        "import datetime\n",
        "import pickle as pkl\n"
      ]
    },
    {
      "cell_type": "code",
      "execution_count": null,
      "id": "mr-mRrTvEEII",
      "metadata": {
        "id": "mr-mRrTvEEII"
      },
      "outputs": [],
      "source": [
        "items = ['button1','time1', 'pred1', 'graph1', 'table1']"
      ]
    },
    {
      "cell_type": "code",
      "execution_count": null,
      "id": "bG7wzbKCCvcM",
      "metadata": {
        "id": "bG7wzbKCCvcM"
      },
      "outputs": [],
      "source": [
        "app = dash.Dash()\n",
        "app.layout = al.app_layout(items)\n",
        "\n",
        "@app.callback(\n",
        "    Output('time1','children'),\n",
        "    Output('table1','data'),\n",
        "    Output('pred1', 'children'),\n",
        "    Output('graph1', 'figure'),\n",
        "    Input('button1','n_clicks'),\n",
        "    prevent_initial_call=False)\n",
        "def fn(n_clicks):\n",
        "    tt = str(datetime.datetime.now())\n",
        "\n",
        "    df = my.db_to_df_random(db_name='steel.db', table_name='test')\n",
        "\n",
        "    pred, x_cols = infr.inference(df)\n",
        "\n",
        "    pred_df = pd.DataFrame(data=pred['prediction'], columns=[\"pred\"])\n",
        "    my.df_to_db(df[x_cols], \"data/steel.db\", \"input_x\")\n",
        "    my.df_to_db(pred_df, \"data/steel.db\",\"pred\")\n",
        "\n",
        "    print_df = my.db_to_df(\"data/steel.db\",\"input_x\")\n",
        "    pred_history = my.db_to_df(\"data/steel.db\",\"pred\")\n",
        "\n",
        "    fig=px.line(x=pred_history.index.tolist(), y=pd.to_numeric(pred_history['pred']))\n",
        "    out=print_df.to_dict('records')\n",
        "\n",
        "    return tt, out, pred, fig\n"
      ]
    },
    {
      "cell_type": "code",
      "execution_count": null,
      "id": "JWI0KtRHB4Dq",
      "metadata": {
        "id": "JWI0KtRHB4Dq"
      },
      "outputs": [],
      "source": [
        "app.run_server()"
      ]
    },
    {
      "cell_type": "code",
      "execution_count": null,
      "id": "EwFkjMMDOLLt",
      "metadata": {
        "id": "EwFkjMMDOLLt"
      },
      "outputs": [],
      "source": []
    },
    {
      "cell_type": "code",
      "execution_count": null,
      "id": "bZrVAlApOLEs",
      "metadata": {
        "id": "bZrVAlApOLEs"
      },
      "outputs": [],
      "source": []
    },
    {
      "cell_type": "code",
      "execution_count": null,
      "id": "o4MAmgttOK0G",
      "metadata": {
        "id": "o4MAmgttOK0G"
      },
      "outputs": [],
      "source": []
    }
  ],
  "metadata": {
    "colab": {
      "provenance": []
    },
    "kernelspec": {
      "display_name": "Python 3",
      "language": "python",
      "name": "python3"
    },
    "language_info": {
      "codemirror_mode": {
        "name": "ipython",
        "version": 3
      },
      "file_extension": ".py",
      "mimetype": "text/x-python",
      "name": "python",
      "nbconvert_exporter": "python",
      "pygments_lexer": "ipython3",
      "version": "3.9.17"
    }
  },
  "nbformat": 4,
  "nbformat_minor": 5
}
